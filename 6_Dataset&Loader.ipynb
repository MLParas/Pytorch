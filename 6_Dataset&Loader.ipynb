{
  "nbformat": 4,
  "nbformat_minor": 0,
  "metadata": {
    "colab": {
      "provenance": [],
      "authorship_tag": "ABX9TyMwPhyOy/oMbDUxCKHBOH43",
      "include_colab_link": true
    },
    "kernelspec": {
      "name": "python3",
      "display_name": "Python 3"
    },
    "language_info": {
      "name": "python"
    }
  },
  "cells": [
    {
      "cell_type": "markdown",
      "metadata": {
        "id": "view-in-github",
        "colab_type": "text"
      },
      "source": [
        "<a href=\"https://colab.research.google.com/github/MLParas/Pytorch/blob/main/6_Dataset%26Loader.ipynb\" target=\"_parent\"><img src=\"https://colab.research.google.com/assets/colab-badge.svg\" alt=\"Open In Colab\"/></a>"
      ]
    },
    {
      "cell_type": "code",
      "execution_count": 27,
      "metadata": {
        "id": "4H4a8BTkNXyS"
      },
      "outputs": [],
      "source": [
        "import torch\n",
        "import torch.nn as nn\n",
        "import numpy as np\n",
        "import pandas as pd\n",
        "from sklearn.model_selection import train_test_split\n",
        "from sklearn.preprocessing import StandardScaler\n",
        "from sklearn.preprocessing import LabelEncoder"
      ]
    },
    {
      "cell_type": "code",
      "source": [],
      "metadata": {
        "id": "2pcqNU3FUYmK"
      },
      "execution_count": 27,
      "outputs": []
    },
    {
      "cell_type": "markdown",
      "source": [
        "Getting data and preprocessing"
      ],
      "metadata": {
        "id": "cge62CRVUbak"
      }
    },
    {
      "cell_type": "code",
      "source": [
        "df = pd.read_csv('https://raw.githubusercontent.com/gscdit/Breast-Cancer-Detection/refs/heads/master/data.csv')\n",
        "df.drop([\"id\",\"Unnamed: 32\"],axis = 1,inplace=True)\n",
        "X_train,X_test, y_train, y_test = train_test_split(df.iloc[:,1:],df.iloc[:,0],test_size = 0.2)\n",
        "scaler = StandardScaler()\n",
        "X_train = scaler.fit_transform(X_train)\n",
        "X_test = scaler.fit_transform(X_test)\n",
        "\n",
        "\n",
        "encoder = LabelEncoder()\n",
        "y_train = encoder.fit_transform(y_train)\n",
        "y_test = encoder.transform(y_test)\n",
        "\n",
        "X_train_tensor = torch.from_numpy(X_train.astype(np.float32))\n",
        "X_test_tensor = torch.from_numpy(X_test.astype(np.float32))\n",
        "y_train_tensor = torch.from_numpy(y_train.astype(np.float32))\n",
        "y_test_tensor = torch.from_numpy(y_test.astype(np.float32))"
      ],
      "metadata": {
        "id": "AVN09ifBUdyA"
      },
      "execution_count": 28,
      "outputs": []
    },
    {
      "cell_type": "code",
      "source": [
        "a = [1,23,25,65,14,2]"
      ],
      "metadata": {
        "id": "nX_oNb-MUetp"
      },
      "execution_count": 29,
      "outputs": []
    },
    {
      "cell_type": "code",
      "source": [],
      "metadata": {
        "id": "H2EbIJ9zXJH3"
      },
      "execution_count": 29,
      "outputs": []
    },
    {
      "cell_type": "markdown",
      "source": [
        "Dataset and Dataloaders"
      ],
      "metadata": {
        "id": "tmKGkeyiXmRw"
      }
    },
    {
      "cell_type": "code",
      "execution_count": 30,
      "metadata": {
        "id": "TgAOwS2a3Keb"
      },
      "outputs": [],
      "source": [
        "from sklearn.datasets import make_classification\n",
        "import torch"
      ]
    },
    {
      "cell_type": "code",
      "source": [
        "# Step 1: Create a synthetic classification dataset using sklearn\n",
        "X, y = make_classification(\n",
        "    n_samples=10,       # Number of samples\n",
        "    n_features=2,       # Number of features\n",
        "    n_informative=2,    # Number of informative features\n",
        "    n_redundant=0,      # Number of redundant features\n",
        "    n_classes=2,        # Number of classes\n",
        "    random_state=42     # For reproducibility\n",
        ")"
      ],
      "metadata": {
        "id": "aqEej4GC3UyT"
      },
      "execution_count": 31,
      "outputs": []
    },
    {
      "cell_type": "code",
      "source": [
        "X = torch.tensor(X,dtype=torch.float32)\n",
        "y = torch.tensor(y,dtype=torch.long)"
      ],
      "metadata": {
        "id": "dOdfEgvctpFI"
      },
      "execution_count": 32,
      "outputs": []
    },
    {
      "cell_type": "code",
      "source": [
        "from torch.utils.data import Dataset, DataLoader"
      ],
      "metadata": {
        "id": "Sr3qteZhuahf"
      },
      "execution_count": 33,
      "outputs": []
    },
    {
      "cell_type": "code",
      "source": [
        "class CustomDataset(Dataset):\n",
        "  ## create 3 methods as in notes\n",
        "\n",
        "  def __init__(self,features,labels):\n",
        "    self.features = features\n",
        "    self.labels = labels\n",
        "\n",
        "  def __len__(self):\n",
        "    return self.features.shape[0]\n",
        "\n",
        "  def __getitem__(self,index):\n",
        "    return self.features[index], self.labels[index]"
      ],
      "metadata": {
        "id": "U7wIygk0undx"
      },
      "execution_count": 34,
      "outputs": []
    },
    {
      "cell_type": "code",
      "source": [
        "dataset = CustomDataset(X,y)"
      ],
      "metadata": {
        "id": "BODYaHpFu4Nf"
      },
      "execution_count": 35,
      "outputs": []
    },
    {
      "cell_type": "code",
      "source": [
        "len(dataset)"
      ],
      "metadata": {
        "colab": {
          "base_uri": "https://localhost:8080/"
        },
        "id": "vtLIdT0evc7K",
        "outputId": "edea4893-32b8-4c48-9195-335ba9f12664"
      },
      "execution_count": 36,
      "outputs": [
        {
          "output_type": "execute_result",
          "data": {
            "text/plain": [
              "10"
            ]
          },
          "metadata": {},
          "execution_count": 36
        }
      ]
    },
    {
      "cell_type": "code",
      "source": [
        "dataset[0]"
      ],
      "metadata": {
        "colab": {
          "base_uri": "https://localhost:8080/"
        },
        "id": "DB2RufhBvf6A",
        "outputId": "d547c343-d051-4c97-9028-cf3c61804433"
      },
      "execution_count": 37,
      "outputs": [
        {
          "output_type": "execute_result",
          "data": {
            "text/plain": [
              "(tensor([ 1.0683, -0.9701]), tensor(1))"
            ]
          },
          "metadata": {},
          "execution_count": 37
        }
      ]
    },
    {
      "cell_type": "code",
      "source": [],
      "metadata": {
        "id": "f1cqrt30vi-z"
      },
      "execution_count": 37,
      "outputs": []
    },
    {
      "cell_type": "markdown",
      "source": [
        "DataLoader"
      ],
      "metadata": {
        "id": "AU7WOo6NvqeD"
      }
    },
    {
      "cell_type": "code",
      "source": [
        "dataloader = DataLoader(dataset, batch_size=2, shuffle= True)"
      ],
      "metadata": {
        "id": "sg0DjP7Gvr6L"
      },
      "execution_count": 38,
      "outputs": []
    },
    {
      "cell_type": "code",
      "source": [],
      "metadata": {
        "id": "_89VNRNzvyWP"
      },
      "execution_count": 38,
      "outputs": []
    },
    {
      "cell_type": "markdown",
      "source": [
        "Getting batches from dataloader"
      ],
      "metadata": {
        "id": "5sGfYe9rv1Jr"
      }
    },
    {
      "cell_type": "code",
      "source": [
        "for batch_features, batch_labels in dataloader:\n",
        "  print(batch_features)\n",
        "  print(batch_labels)\n",
        "  print(\"-\"*50)"
      ],
      "metadata": {
        "colab": {
          "base_uri": "https://localhost:8080/"
        },
        "id": "--1T8AuBv2l4",
        "outputId": "ae8589b5-04a7-4ca5-9624-8ae931652c55"
      },
      "execution_count": 39,
      "outputs": [
        {
          "output_type": "stream",
          "name": "stdout",
          "text": [
            "tensor([[ 1.7774,  1.5116],\n",
            "        [-2.8954,  1.9769]])\n",
            "tensor([1, 0])\n",
            "--------------------------------------------------\n",
            "tensor([[-0.5872, -1.9717],\n",
            "        [ 1.7273, -1.1858]])\n",
            "tensor([0, 1])\n",
            "--------------------------------------------------\n",
            "tensor([[ 1.8997,  0.8344],\n",
            "        [-1.1402, -0.8388]])\n",
            "tensor([1, 0])\n",
            "--------------------------------------------------\n",
            "tensor([[-1.9629, -0.9923],\n",
            "        [-0.7206, -0.9606]])\n",
            "tensor([0, 0])\n",
            "--------------------------------------------------\n",
            "tensor([[-0.9382, -0.5430],\n",
            "        [ 1.0683, -0.9701]])\n",
            "tensor([1, 1])\n",
            "--------------------------------------------------\n"
          ]
        }
      ]
    },
    {
      "cell_type": "code",
      "source": [
        "len(test_dataset)"
      ],
      "metadata": {
        "id": "v4RCkZ5YeCdM",
        "colab": {
          "base_uri": "https://localhost:8080/"
        },
        "outputId": "7f7f1ede-2245-47d1-f753-9dc690f96565"
      },
      "execution_count": 50,
      "outputs": [
        {
          "output_type": "execute_result",
          "data": {
            "text/plain": [
              "455"
            ]
          },
          "metadata": {},
          "execution_count": 50
        }
      ]
    },
    {
      "cell_type": "markdown",
      "source": [
        "Breast Cancer Model"
      ],
      "metadata": {
        "id": "eVu_Tr8TeEGa"
      }
    },
    {
      "cell_type": "code",
      "source": [
        "train_dataset = CustomDataset(X_train_tensor,y_train_tensor)\n",
        "test_dataset = CustomDataset(X_test_tensor,y_test_tensor)"
      ],
      "metadata": {
        "id": "Be6fVXlwv4t8"
      },
      "execution_count": 51,
      "outputs": []
    },
    {
      "cell_type": "code",
      "source": [
        "train_dataloader = DataLoader(train_dataset,batch_size=32, shuffle=True)\n",
        "test_dataloader = DataLoader(test_dataset,batch_size=32,shuffle=True)"
      ],
      "metadata": {
        "id": "-NIc-y35ecGD"
      },
      "execution_count": 52,
      "outputs": []
    },
    {
      "cell_type": "code",
      "source": [
        "## simple NN model\n",
        "\n",
        "class MySimpleNN(nn.Module):\n",
        "  def __init__(self,d):\n",
        "    super().__init__()\n",
        "    self.linear = nn.Linear(d,1)\n",
        "    self.sigmoid = nn.Sigmoid()\n",
        "\n",
        "  def forward(self,X):\n",
        "    out = self.linear(X)\n",
        "    return self.sigmoid(out)"
      ],
      "metadata": {
        "id": "Lbts82F4erO_"
      },
      "execution_count": 53,
      "outputs": []
    },
    {
      "cell_type": "code",
      "source": [
        "lr = 0.1\n",
        "batch_size=32\n",
        "epochs = 25"
      ],
      "metadata": {
        "id": "WCaRuOkFfQ02"
      },
      "execution_count": 54,
      "outputs": []
    },
    {
      "cell_type": "code",
      "source": [
        "model = MySimpleNN(X_train_tensor.shape[1])\n",
        "optimizer = torch.optim.SGD(model.parameters(),lr=lr)\n",
        "loss_fxn = nn.BCELoss()"
      ],
      "metadata": {
        "id": "U9BMZg-RfZ7C"
      },
      "execution_count": 55,
      "outputs": []
    },
    {
      "cell_type": "markdown",
      "source": [
        "Train"
      ],
      "metadata": {
        "id": "SeiqRXcmgRQx"
      }
    },
    {
      "cell_type": "code",
      "source": [
        "for epoch in range(epochs):\n",
        "  for batch_features,batch_labels in train_dataloader:\n",
        "    y_pred = model(batch_features)\n",
        "    loss = loss_fxn(y_pred,batch_labels.view(-1,1))\n",
        "    optimizer.zero_grad()\n",
        "    loss.backward()\n",
        "    ## update model weights\n",
        "    optimizer.step()\n",
        "  print(f\"Epoch : {epoch} loss = {loss}\")"
      ],
      "metadata": {
        "id": "XLFFBnrFgAL8",
        "colab": {
          "base_uri": "https://localhost:8080/"
        },
        "outputId": "ef9ccf82-2c21-43b8-a5f7-70438007479a"
      },
      "execution_count": 56,
      "outputs": [
        {
          "output_type": "stream",
          "name": "stdout",
          "text": [
            "Epoch : 0 loss = 0.1765708178281784\n",
            "Epoch : 1 loss = 0.12946994602680206\n",
            "Epoch : 2 loss = 0.10069769620895386\n",
            "Epoch : 3 loss = 0.19194647669792175\n",
            "Epoch : 4 loss = 0.05333400145173073\n",
            "Epoch : 5 loss = 0.06774754077196121\n",
            "Epoch : 6 loss = 0.18883247673511505\n",
            "Epoch : 7 loss = 0.009018120355904102\n",
            "Epoch : 8 loss = 0.029693450778722763\n",
            "Epoch : 9 loss = 0.12208467721939087\n",
            "Epoch : 10 loss = 0.14008863270282745\n",
            "Epoch : 11 loss = 0.05854693427681923\n",
            "Epoch : 12 loss = 0.04677879810333252\n",
            "Epoch : 13 loss = 0.06568264961242676\n",
            "Epoch : 14 loss = 0.0909925177693367\n",
            "Epoch : 15 loss = 0.03955954313278198\n",
            "Epoch : 16 loss = 0.018876267597079277\n",
            "Epoch : 17 loss = 0.06790444254875183\n",
            "Epoch : 18 loss = 0.025875434279441833\n",
            "Epoch : 19 loss = 0.053681034594774246\n",
            "Epoch : 20 loss = 0.010050124488770962\n",
            "Epoch : 21 loss = 0.10231798887252808\n",
            "Epoch : 22 loss = 0.023840058594942093\n",
            "Epoch : 23 loss = 0.027703197672963142\n",
            "Epoch : 24 loss = 0.02359458990395069\n"
          ]
        }
      ]
    },
    {
      "cell_type": "markdown",
      "source": [
        "Code for evaluation"
      ],
      "metadata": {
        "id": "eCB9chsBiQx9"
      }
    },
    {
      "cell_type": "code",
      "source": [
        "model.eval()\n",
        "ac_list = []\n",
        "\n",
        "with torch.no_grad():\n",
        "  for batch_features,batch_labels in test_dataloader:\n",
        "    y_pred = model(batch_features)\n",
        "    y_pred = (y_pred>0.7).float()\n",
        "    batch_acc = (batch_labels.view(-1,1) == y_pred).float().mean().items()\n",
        "    ac_list.append(batch_acc)\n",
        "\n"
      ],
      "metadata": {
        "id": "DOrCL_5jiR35"
      },
      "execution_count": 61,
      "outputs": []
    },
    {
      "cell_type": "code",
      "source": [
        "##Overall\n",
        "acc = sum(ac_list)/len(ac_list)\n",
        "print(acc)"
      ],
      "metadata": {
        "colab": {
          "base_uri": "https://localhost:8080/"
        },
        "id": "UEY7dOxNjNyL",
        "outputId": "ddfbb0db-c653-46a4-f9e0-895195869e4e"
      },
      "execution_count": 65,
      "outputs": [
        {
          "output_type": "stream",
          "name": "stdout",
          "text": [
            "tensor(0.9375)\n"
          ]
        }
      ]
    },
    {
      "cell_type": "code",
      "source": [],
      "metadata": {
        "id": "6KcszoIijuGC"
      },
      "execution_count": null,
      "outputs": []
    }
  ]
}