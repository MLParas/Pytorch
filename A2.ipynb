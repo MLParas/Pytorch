{
  "nbformat": 4,
  "nbformat_minor": 0,
  "metadata": {
    "colab": {
      "provenance": [],
      "gpuType": "T4"
    },
    "kernelspec": {
      "name": "python3",
      "display_name": "Python 3"
    },
    "language_info": {
      "name": "python"
    },
    "accelerator": "GPU"
  },
  "cells": [
    {
      "cell_type": "code",
      "execution_count": 1,
      "metadata": {
        "colab": {
          "base_uri": "https://localhost:8080/"
        },
        "id": "yYsl3k_ZeI5O",
        "outputId": "35f008db-c046-4247-a7a1-8eb5ed45cfc0"
      },
      "outputs": [
        {
          "output_type": "stream",
          "name": "stdout",
          "text": [
            "Using device: cuda\n"
          ]
        }
      ],
      "source": [
        "import math\n",
        "import torch\n",
        "import torch.nn as nn\n",
        "import torch.optim as optim\n",
        "import torch.nn.functional as F\n",
        "from torch.utils.data import DataLoader, random_split\n",
        "from torchvision import datasets, transforms\n",
        "import matplotlib.pyplot as plt\n",
        "import numpy as np\n",
        "import random\n",
        "\n",
        "# For reproducibility\n",
        "SEED = 42\n",
        "random.seed(SEED)\n",
        "np.random.seed(SEED)\n",
        "torch.manual_seed(SEED)\n",
        "torch.cuda.manual_seed_all(SEED)\n",
        "device = torch.device(\"cuda\" if torch.cuda.is_available() else \"cpu\")\n",
        "\n",
        "print(\"Using device:\", device)"
      ]
    },
    {
      "cell_type": "code",
      "source": [
        "#loading CIFAR 10 data"
      ],
      "metadata": {
        "id": "9NQn0NNAeNcS"
      },
      "execution_count": 2,
      "outputs": []
    },
    {
      "cell_type": "code",
      "source": [],
      "metadata": {
        "id": "NPGRxjofmSgq"
      },
      "execution_count": 2,
      "outputs": []
    },
    {
      "cell_type": "code",
      "source": [
        "def get_data(train_batch_size=128,test_batch_size=256,Sr=1.0,num_workers=2):\n",
        "\n",
        "    # Standard transformations (https://github.com/moritzhambach/Image-Augmentation-in-Keras-CIFAR-10-) normalisation matrices taken from here\n",
        "    x = (0.4914, 0.4822, 0.4465)\n",
        "    y = (0.2470, 0.2435, 0.2616)\n",
        "    transform_train = transforms.Compose([transforms.RandomHorizontalFlip(),transforms.RandomCrop(32, padding=4),transforms.ToTensor(),transforms.Normalize(x,y)])\n",
        "    transform_test = transforms.Compose([transforms.ToTensor(),transforms.Normalize(x,y)])\n",
        "\n",
        "    # Download and create datasets\n",
        "    X_train = datasets.CIFAR10(root='./data', train=True, download=True, transform=transform_train)\n",
        "    X_test = datasets.CIFAR10(root='./data', train=False, download=True, transform=transform_test)\n",
        "\n",
        "    # Sample data\n",
        "    N = int(len(X_train) * Sr)\n",
        "    X_f,_ = random_split(X_train, [N, len(X_train)-N])\n",
        "\n",
        "    #Load data\n",
        "    tr = DataLoader(X_f,batch_size=train_batch_size,shuffle=True, num_workers=num_workers)\n",
        "    ts = DataLoader(X_test,batch_size=test_batch_size, shuffle=False, num_workers=num_workers)\n",
        "\n",
        "    return tr, ts"
      ],
      "metadata": {
        "id": "f9MYMWB0tGEw"
      },
      "execution_count": 3,
      "outputs": []
    },
    {
      "cell_type": "code",
      "source": [
        "\n",
        "class PatchEmbed(nn.Module):\n",
        "\n",
        "    def __init__(self,image_size = 32, in_channels=3, patch_size=4, emb_dim=128, stride=None):\n",
        "        super().__init__()\n",
        "        self.patch_size = patch_size\n",
        "        self.image_size = 32\n",
        "        if stride is None:\n",
        "            stride = patch_size  # no overlap\n",
        "        self.unfold = nn.Unfold(kernel_size=patch_size, stride=stride)\n",
        "        self.linear = nn.Linear(in_channels * patch_size * patch_size, emb_dim)\n",
        "\n",
        "    def forward(self, x):\n",
        "        # x: (B, C, H, W)\n",
        "        patches = self.unfold(x)\n",
        "        patches = patches.transpose(1, 2)\n",
        "        embeds = self.linear(patches)  # (B, Num_Patches, emb_dim)\n",
        "        return embeds\n",
        "\n",
        "\n",
        "# Pytorch has a module but I wrote it myself because of diff input params i passed\n",
        "class MultiHeadSelfAttention(nn.Module):\n",
        "    def __init__(self, emb_dim, num_heads=4, dropout=0.1):\n",
        "        super().__init__()\n",
        "        self.num_heads = num_heads\n",
        "        self.head_dim = emb_dim // num_heads\n",
        "        E = emb_dim\n",
        "        self.projections = nn.ModuleList([nn.Linear(E, E) for _ in range(3)])\n",
        "        self.out = nn.Linear(E, E)\n",
        "        self.dropout = nn.Dropout(dropout)\n",
        "\n",
        "    def forward(self, x):\n",
        "        # x: (B, N, emb_dim) where N=number of patches+1 if CLS token is included\n",
        "        B, N, _ = x.shape\n",
        "\n",
        "        # Linear projections\n",
        "        Q = self.projections[0](x)\n",
        "        K = self.projections[1](x)\n",
        "        V = self.projections[2](x)\n",
        "\n",
        "        # Reshape to multi-head\n",
        "        Q = Q.reshape(B, N, self.num_heads, self.head_dim).transpose(1, 2)  # (B, num_heads, N, head_dim)\n",
        "        K = K.reshape(B, N, self.num_heads, self.head_dim).transpose(1, 2)\n",
        "        V = V.reshape(B, N, self.num_heads, self.head_dim).transpose(1, 2)\n",
        "\n",
        "        # self attention\n",
        "        scores = torch.matmul(Q, K.transpose(-2, -1)) / math.sqrt(self.head_dim)\n",
        "        attn = scores.softmax(dim=-1)\n",
        "        out = torch.matmul(attn, V)\n",
        "        out = out.transpose(1, 2).reshape(B, N, -1)  # (B, N, emb_dim)\n",
        "\n",
        "        # Final\n",
        "        out = self.out(out)\n",
        "        out = self.dropout(out)\n",
        "\n",
        "        return out, attn"
      ],
      "metadata": {
        "id": "pP41VWyer0Wz"
      },
      "execution_count": 4,
      "outputs": []
    },
    {
      "cell_type": "code",
      "source": [
        "class TransformerEncoderBlock(nn.Module):\n",
        "    def __init__(self, emb_dim, num_heads=4, mlp_ratio=4.0, dropout=0.1):\n",
        "        super().__init__()\n",
        "        # attention\n",
        "        self.msa = MultiHeadSelfAttention(emb_dim, num_heads, dropout)\n",
        "        #layr norms\n",
        "        self.ln1 = nn.LayerNorm(emb_dim)\n",
        "        self.ln2 = nn.LayerNorm(emb_dim)\n",
        "        h = int(emb_dim * mlp_ratio)\n",
        "        self.mlp = nn.Sequential(nn.Linear(emb_dim, h),nn.GELU(),nn.Dropout(dropout),nn.Linear(h, emb_dim),nn.Dropout(dropout) )\n",
        "\n",
        "    def forward(self, x):\n",
        "        # Attention\n",
        "        out, attn = self.msa(self.ln1(x))\n",
        "        x = x + out\n",
        "        # MLP\n",
        "        out = self.mlp(self.ln2(x))\n",
        "        x = x + out\n",
        "\n",
        "        return x, attn"
      ],
      "metadata": {
        "id": "-f_Ov6ZUJLBA"
      },
      "execution_count": 5,
      "outputs": []
    },
    {
      "cell_type": "markdown",
      "source": [
        "ViT Model Combined"
      ],
      "metadata": {
        "id": "X7bgV-LlJSUN"
      }
    },
    {
      "cell_type": "code",
      "source": [
        "class VisionTransformer(nn.Module):\n",
        "\n",
        "    def __init__(self, image_size=32, patch_size=4, stride=None, in_channels=3, emb_dim=128, depth=6, num_heads=4, mlp_ratio=4, num_classes=10, dropout=0.1):\n",
        "        super().__init__()\n",
        "\n",
        "        # Patch embedding\n",
        "        self.patch_embed = PatchEmbed(image_size,in_channels, patch_size, emb_dim, stride)\n",
        "\n",
        "        if stride is None:\n",
        "            stride = patch_size\n",
        "        num_h = (image_size - patch_size)//stride + 1\n",
        "        num_w = (image_size - patch_size)//stride + 1\n",
        "        self.num_patches = num_h * num_w\n",
        "\n",
        "        # CLS & posn embeds\n",
        "        self.cls_token = nn.Parameter(torch.zeros(1, 1, emb_dim))\n",
        "        self.pos_embed = nn.Parameter(torch.zeros(1, self.num_patches + 1, emb_dim))\n",
        "        nn.init.trunc_normal_(self.pos_embed, std=0.02)\n",
        "        self.pos_drop = nn.Dropout(p=dropout)\n",
        "\n",
        "        # Tx block and LN\n",
        "        self.blocks = nn.ModuleList([TransformerEncoderBlock(emb_dim, num_heads, mlp_ratio, dropout) for _ in range(depth)])\n",
        "        self.ln = nn.LayerNorm(emb_dim)\n",
        "        self.fc = nn.Linear(emb_dim, num_classes)\n",
        "\n",
        "    def forward(self, x, return_attention=False):\n",
        "        \"\"\"\n",
        "        return_attention: if True, returns the attention maps from each block\n",
        "                          for visualization.\n",
        "        \"\"\"\n",
        "        B = x.size(0)\n",
        "        x = self.patch_embed(x)\n",
        "        cls_tokens = self.cls_token.expand(B, -1, -1)  # (B, 1, emb_dim)\n",
        "        x = torch.cat((cls_tokens, x), dim=1)  # (B, 1+Num_Patches, emb_dim)\n",
        "\n",
        "        # concatening post to x\n",
        "        x = x + self.pos_embed\n",
        "        x = self.pos_drop(x)\n",
        "\n",
        "        attn_maps = []\n",
        "\n",
        "        # Pass through transformer blocks\n",
        "        for blk in self.blocks:\n",
        "            x, attn = blk(x)\n",
        "            if return_attention:\n",
        "                attn_maps.append(attn)\n",
        "\n",
        "        # Classification using the CLS token\n",
        "        # x = self.ln(x)\n",
        "        # cls_out = x[:, 0]  # (B, emb_dim)\n",
        "        # logits = self.fc(cls_out)  # (B, num_classes)\n",
        "\n",
        "        # if return_attention:\n",
        "        #     return logits, attn_maps\n",
        "        # else:\n",
        "        #     return logits\n",
        "        logits = self.fc(self.ln(x)[:, 0])  # Final Layer Norm + CLS token for classification\n",
        "        return (logits, attn_maps) if return_attention else logits"
      ],
      "metadata": {
        "id": "W5tiYcBTsy-r"
      },
      "execution_count": 6,
      "outputs": []
    },
    {
      "cell_type": "markdown",
      "source": [],
      "metadata": {
        "id": "RnJ6pC7aJRMM"
      }
    },
    {
      "cell_type": "code",
      "source": [
        "def train_one_epoch(model, dataloader, optimizer, criterion):\n",
        "    model.train()\n",
        "    total_loss,correct,total = 0,0,0\n",
        "\n",
        "    for X, y in dataloader:\n",
        "        X = X.to(device)\n",
        "        y = y.to(device)\n",
        "\n",
        "        optimizer.zero_grad()\n",
        "        out = model(X)\n",
        "        loss = criterion(out, y)\n",
        "        loss.backward()\n",
        "        optimizer.step()\n",
        "\n",
        "        total_loss += loss.item() * X.size(0)\n",
        "        _, preds = out.max(1)\n",
        "        correct += preds.eq(y).sum().item()\n",
        "        total += y.size(0)\n",
        "\n",
        "    avg_loss = total_loss / total\n",
        "    accuracy = 100. * correct / total\n",
        "    return avg_loss, accuracy\n",
        "\n",
        "\n",
        "def test_one_epoch(model, dataloader, criterion):\n",
        "    model.eval()\n",
        "    total_loss,correct,total = 0,0,0\n",
        "\n",
        "    with torch.no_grad():\n",
        "        for X, y in dataloader:\n",
        "            X = X.to(device)\n",
        "            y = y.to(device)\n",
        "\n",
        "            outputs = model(X)\n",
        "            loss = criterion(outputs, y)\n",
        "\n",
        "            total_loss += loss.item() * X.size(0)\n",
        "            _, preds = outputs.max(1)\n",
        "            correct += preds.eq(y).sum().item()\n",
        "            total += y.size(0)\n",
        "\n",
        "    avg_loss = total_loss / total\n",
        "    accuracy = 100. * correct / total\n",
        "    return avg_loss, accuracy\n",
        "\n",
        "\n",
        "def train_model(model, train_loader, test_loader, epochs=10, lr=3e-4):\n",
        "    model.to(device)\n",
        "    criterion = nn.CrossEntropyLoss()\n",
        "    optimizer = optim.Adam(model.parameters(), lr=lr)\n",
        "\n",
        "    train_losses = []\n",
        "    train_accs = []\n",
        "    test_losses = []\n",
        "    test_accs = []\n",
        "\n",
        "    for epoch in range(epochs):\n",
        "        tr_loss, tr_acc = train_one_epoch(model, train_loader, optimizer, criterion)\n",
        "        te_loss, te_acc = test_one_epoch(model, test_loader, criterion)\n",
        "\n",
        "        train_losses.append(tr_loss)\n",
        "        train_accs.append(tr_acc)\n",
        "        test_losses.append(te_loss)\n",
        "        test_accs.append(te_acc)\n",
        "\n",
        "        print(f\"[Epoch {epoch+1}/{epochs}] \"\n",
        "              f\"Train Loss: {tr_loss:.4f} | Train Acc: {tr_acc:.2f}% || \"\n",
        "              f\"Test Loss: {te_loss:.4f} | Test Acc: {te_acc:.2f}%\")\n",
        "\n",
        "    return train_losses, train_accs, test_losses, test_accs"
      ],
      "metadata": {
        "id": "AlsUwPn3s8kx"
      },
      "execution_count": null,
      "outputs": []
    },
    {
      "cell_type": "code",
      "source": [],
      "metadata": {
        "id": "D1vst_cTs96z"
      },
      "execution_count": 7,
      "outputs": []
    },
    {
      "cell_type": "markdown",
      "source": [
        "Experiment 1:"
      ],
      "metadata": {
        "id": "NV7AoKoEeFh-"
      }
    },
    {
      "cell_type": "code",
      "source": [
        "# Example usage\n",
        "# Load CIFAR-10 dataset (100% training data)\n",
        "train_loader_full, test_loader_full = get_data(train_batch_size=128, test_batch_size=256, Sr=1.0)\n",
        "\n",
        "# Initialize Vision Transformer (ViT)\n",
        "model_vit = VisionTransformer(image_size=32, patch_size=4, stride=4, in_channels=3, emb_dim=128, depth=6, num_heads=4, mlp_ratio=4.0, num_classes=10, dropout=0.1)\n",
        "\n",
        "# Train the model\n",
        "train_losses, train_accs, test_losses, test_accs = train_model(model_vit, train_loader_full, test_loader_full, epochs=20, lr=3e-4)\n",
        "\n",
        "\n",
        "# Plot training curve\n",
        "plt.figure()\n",
        "plt.plot(train_accs, label='Train Accuracy')\n",
        "plt.plot(test_accs, label='Test Accuracy')\n",
        "plt.xlabel(\"Epoch\")\n",
        "plt.ylabel(\"Accuracy (%)\")\n",
        "plt.legend()\n",
        "plt.title(\"Accuracy vs Epochs (ViT on CIFAR-10)\")\n",
        "plt.show()"
      ],
      "metadata": {
        "id": "Bm1sPl1-tNza",
        "colab": {
          "base_uri": "https://localhost:8080/",
          "height": 889
        },
        "outputId": "db346b46-000f-42c2-c00a-e97ee8c4ef92"
      },
      "execution_count": 8,
      "outputs": [
        {
          "output_type": "stream",
          "name": "stdout",
          "text": [
            "Downloading https://www.cs.toronto.edu/~kriz/cifar-10-python.tar.gz to ./data/cifar-10-python.tar.gz\n"
          ]
        },
        {
          "output_type": "stream",
          "name": "stderr",
          "text": [
            "100%|██████████| 170M/170M [00:05<00:00, 29.7MB/s]\n"
          ]
        },
        {
          "output_type": "stream",
          "name": "stdout",
          "text": [
            "Extracting ./data/cifar-10-python.tar.gz to ./data\n",
            "Files already downloaded and verified\n",
            "[Epoch 1/20] Train Loss: 1.7944 | Train Acc: 32.81% || Test Loss: 1.6514 | Test Acc: 39.64%\n",
            "[Epoch 2/20] Train Loss: 1.5004 | Train Acc: 44.86% || Test Loss: 1.3701 | Test Acc: 50.16%\n",
            "[Epoch 3/20] Train Loss: 1.3565 | Train Acc: 50.48% || Test Loss: 1.2560 | Test Acc: 54.49%\n",
            "[Epoch 4/20] Train Loss: 1.2597 | Train Acc: 54.39% || Test Loss: 1.1853 | Test Acc: 56.85%\n",
            "[Epoch 5/20] Train Loss: 1.1861 | Train Acc: 57.12% || Test Loss: 1.1208 | Test Acc: 59.17%\n",
            "[Epoch 6/20] Train Loss: 1.1314 | Train Acc: 59.05% || Test Loss: 1.0701 | Test Acc: 60.91%\n",
            "[Epoch 7/20] Train Loss: 1.0854 | Train Acc: 61.18% || Test Loss: 1.0159 | Test Acc: 63.47%\n",
            "[Epoch 8/20] Train Loss: 1.0444 | Train Acc: 62.41% || Test Loss: 0.9791 | Test Acc: 64.96%\n",
            "[Epoch 9/20] Train Loss: 1.0077 | Train Acc: 63.67% || Test Loss: 0.9512 | Test Acc: 65.01%\n",
            "[Epoch 10/20] Train Loss: 0.9697 | Train Acc: 65.20% || Test Loss: 0.9168 | Test Acc: 67.38%\n",
            "[Epoch 11/20] Train Loss: 0.9399 | Train Acc: 66.29% || Test Loss: 0.9124 | Test Acc: 67.24%\n",
            "[Epoch 12/20] Train Loss: 0.9026 | Train Acc: 67.66% || Test Loss: 0.8702 | Test Acc: 68.90%\n",
            "[Epoch 13/20] Train Loss: 0.8761 | Train Acc: 69.02% || Test Loss: 0.8101 | Test Acc: 71.52%\n",
            "[Epoch 14/20] Train Loss: 0.8545 | Train Acc: 69.44% || Test Loss: 0.8231 | Test Acc: 71.23%\n",
            "[Epoch 15/20] Train Loss: 0.8317 | Train Acc: 70.39% || Test Loss: 0.7969 | Test Acc: 71.63%\n",
            "[Epoch 16/20] Train Loss: 0.8087 | Train Acc: 71.10% || Test Loss: 0.7846 | Test Acc: 72.37%\n",
            "[Epoch 17/20] Train Loss: 0.7878 | Train Acc: 71.89% || Test Loss: 0.7548 | Test Acc: 73.08%\n",
            "[Epoch 18/20] Train Loss: 0.7653 | Train Acc: 72.83% || Test Loss: 0.7643 | Test Acc: 73.26%\n",
            "[Epoch 19/20] Train Loss: 0.7533 | Train Acc: 73.05% || Test Loss: 0.7824 | Test Acc: 72.93%\n",
            "[Epoch 20/20] Train Loss: 0.7343 | Train Acc: 73.97% || Test Loss: 0.7173 | Test Acc: 75.15%\n"
          ]
        },
        {
          "output_type": "display_data",
          "data": {
            "text/plain": [
              "<Figure size 640x480 with 1 Axes>"
            ],
            "image/png": "[encoded data removed]"
          },
          "metadata": {}
        }
      ]
    },
    {
      "cell_type": "code",
      "source": [
        "#Plot train and test losses\n",
        "plt.figure(figsize=(8, 6))\n",
        "plt.plot(epochs, train_losses, marker=\"o\", linestyle=\"--\", color=\"green\", markersize=6, label=\"Train Loss\")\n",
        "plt.plot(epochs, test_losses, marker=\"s\", linestyle=\"-\", color=\"purple\", markersize=6, label=\"Test Loss\")\n",
        "\n",
        "# Formatting the plot\n",
        "plt.xlabel(\"Epoch\", fontsize=12, fontweight=\"bold\")\n",
        "plt.ylabel(\"Loss\", fontsize=12, fontweight=\"bold\")\n",
        "plt.title(\"Training and Test Loss vs Epochs\", fontsize=14, fontweight=\"bold\")\n",
        "plt.legend(fontsize=10, loc=\"upper right\")\n",
        "plt.grid(True, linestyle=\"--\", alpha=0.6)\n",
        "plt.xticks(epochs)\n",
        "\n",
        "# Show plot\n",
        "plt.show()"
      ],
      "metadata": {
        "id": "eIisekYzMMaV"
      },
      "execution_count": null,
      "outputs": []
    },
    {
      "cell_type": "markdown",
      "source": [
        "Some visualisations"
      ],
      "metadata": {
        "id": "79sOvBf6gDPZ"
      }
    },
    {
      "cell_type": "code",
      "source": [
        "# CIFAR-10 class labels\n",
        "class_labels = ['Airplane', 'Automobile', 'Bird', 'Cat', 'Deer',\n",
        "                'Dog', 'Frog', 'Horse', 'Ship', 'Truck']\n",
        "\n",
        "def visualize_predictions(model, dataloader, device, num_images=10):\n",
        "    model.eval()  # Set model to evaluation mode\n",
        "    images, labels = next(iter(dataloader))  # Get a batch of images\n",
        "    images, labels = images[:num_images].to(device), labels[:num_images].to(device)\n",
        "\n",
        "    with torch.no_grad():\n",
        "        outputs = model(images)\n",
        "        preds = outputs.argmax(dim=1)  # Get predicted class indices\n",
        "\n",
        "    # Convert images from tensor to numpy and unnormalize\n",
        "    images = images.cpu().numpy().transpose(0, 2, 3, 1)  # Convert (C, H, W) -> (H, W, C)\n",
        "    images = np.clip(images * 0.25 + 0.5, 0, 1)  # Unnormalize for display\n",
        "\n",
        "    # Improved Plot Aesthetics\n",
        "    fig, axes = plt.subplots(2, num_images // 2, figsize=(12, 6))  # 2 rows for better spacing\n",
        "    fig.suptitle(\"Vision Transformer Predictions on CIFAR-10\", fontsize=14, fontweight=\"bold\")\n",
        "\n",
        "    for i, ax in enumerate(axes.flat):\n",
        "        ax.imshow(images[i])\n",
        "        pred_label = class_labels[preds[i]]\n",
        "        true_label = class_labels[labels[i]]\n",
        "        title_color = \"green\" if preds[i] == labels[i] else \"red\"\n",
        "\n",
        "        ax.set_title(f\"Pred: {pred_label}\\nGT: {true_label}\", fontsize=10, color=title_color)\n",
        "        ax.axis(\"off\")\n",
        "\n",
        "    plt.tight_layout(rect=[0, 0, 1, 0.95])  # Adjust layout to fit title\n",
        "    plt.show()\n"
      ],
      "metadata": {
        "id": "-U0SYkqcgBZQ"
      },
      "execution_count": 9,
      "outputs": []
    },
    {
      "cell_type": "markdown",
      "source": [],
      "metadata": {
        "id": "jt_Sq2VWgCWj"
      }
    },
    {
      "cell_type": "markdown",
      "source": [
        "Experiment 2 : Train your model at different data sizes 5%, 10%, 25%, 50% and 100% of the\n",
        "training dataset and discuss model performance"
      ],
      "metadata": {
        "id": "SPNUBX3RtUO8"
      }
    },
    {
      "cell_type": "code",
      "source": [
        "# Define subset sizes and an empty results dictionary\n",
        "subset_sizes = [0.05, 0.10, 0.25, 0.50, 1.0]  # 5%, 10%, 25%, 50%, 100% of training data\n",
        "results = {}\n",
        "\n",
        "for size in subset_sizes:\n",
        "    print(f\"\\nTraining on {int(size * 100)}% of CIFAR-10 dataset...\")\n",
        "\n",
        "    train_loader, test_loader = get_data(train_batch_size=128, test_batch_size=256, Sr=size)\n",
        "    model = VisionTransformer(image_size=32, patch_size=4, stride=4, in_channels=3, emb_dim=128,\n",
        "                              depth=6, num_heads=4, mlp_ratio=4.0, num_classes=10, dropout=0.1).to(device)\n",
        "\n",
        "    # Unpack full loss and accuracy arrays for each epoch\n",
        "    train_losses, train_accs, test_losses, test_accs = train_model(model, train_loader, test_loader, epochs=20, lr=3e-4)\n",
        "\n",
        "    # For accuracy, we only need the final values;\n",
        "    # For losses, we store the full arrays (loss curves)\n",
        "    results[size] = {\n",
        "        \"final_train_acc\": train_accs[-1],\n",
        "        \"final_test_acc\": test_accs[-1],\n",
        "        \"train_loss\": train_losses,\n",
        "        \"test_loss\": test_losses\n",
        "    }\n",
        "\n",
        "\n",
        "sizes = [int(s * 100) for s in subset_sizes]\n",
        "train_accs = [results[s][\"train_acc\"] for s in subset_sizes]\n",
        "test_accs = [results[s][\"test_acc\"] for s in subset_sizes]\n",
        "train_losses = [results[s][\"train_loss\"] for s in subset_sizes]\n",
        "test_losses = [results[s][\"test_loss\"] for s in subset_sizes]\n",
        "\n",
        "# Figure 1: Accuracy vs. Dataset Size\n",
        "sizes_plot = [int(s * 100) for s in subset_sizes]\n",
        "final_train_accs = [results[s][\"final_train_acc\"] for s in subset_sizes]\n",
        "final_test_accs = [results[s][\"final_test_acc\"] for s in subset_sizes]\n",
        "\n",
        "plt.figure(figsize=(8, 6))\n",
        "plt.plot(sizes_plot, final_train_accs, marker=\"o\", linestyle=\"--\", color=\"blue\", markersize=8, label=\"Train Accuracy\")\n",
        "plt.plot(sizes_plot, final_test_accs, marker=\"s\", linestyle=\"-\", color=\"red\", markersize=8, label=\"Test Accuracy\")\n",
        "plt.xlabel(\"Percentage of Training Data\", fontsize=12, fontweight=\"bold\")\n",
        "plt.ylabel(\"Accuracy (%)\", fontsize=12, fontweight=\"bold\")\n",
        "plt.title(\"Effect of Training Data Size on ViT Performance\", fontsize=14, fontweight=\"bold\")\n",
        "plt.legend(fontsize=10, loc=\"lower right\")\n",
        "plt.grid(True, linestyle=\"--\", alpha=0.6)\n",
        "plt.xticks(sizes_plot)\n",
        "plt.ylim(30, 80)\n",
        "plt.show()\n",
        "# Figure 2: Loss vs. Dataset Size\n",
        "# Subplot 1: Training Loss Curves\n",
        "plt.subplot(1, 2, 1)\n",
        "for size in subset_sizes:\n",
        "    epochs = range(1, len(results[size][\"train_loss\"]) + 1)\n",
        "    plt.plot(epochs, results[size][\"train_loss\"], marker=\"o\", linestyle=\"--\", label=f\"{int(size*100)}%\")\n",
        "plt.xlabel(\"Epoch\", fontsize=12, fontweight=\"bold\")\n",
        "plt.ylabel(\"Train Loss\", fontsize=12, fontweight=\"bold\")\n",
        "plt.title(\"Training Loss vs. Epochs\", fontsize=14, fontweight=\"bold\")\n",
        "plt.legend(title=\"Training Data %\", fontsize=10)\n",
        "plt.grid(True, linestyle=\"--\", alpha=0.6)\n",
        "\n",
        "# Subplot 2: Test Loss Curves\n",
        "plt.subplot(1, 2, 2)\n",
        "for size in subset_sizes:\n",
        "    epochs = range(1, len(results[size][\"test_loss\"]) + 1)\n",
        "    plt.plot(epochs, results[size][\"test_loss\"], marker=\"s\", linestyle=\"-\", label=f\"{int(size*100)}%\")\n",
        "plt.xlabel(\"Epoch\", fontsize=12, fontweight=\"bold\")\n",
        "plt.ylabel(\"Test Loss\", fontsize=12, fontweight=\"bold\")\n",
        "plt.title(\"Test Loss vs. Epochs\", fontsize=14, fontweight=\"bold\")\n",
        "plt.legend(title=\"Training Data %\", fontsize=10)\n",
        "plt.grid(True, linestyle=\"--\", alpha=0.6)\n",
        "\n",
        "plt.tight_layout()\n",
        "plt.show()\n"
      ],
      "metadata": {
        "id": "SpyEN75BrnMw"
      },
      "execution_count": null,
      "outputs": []
    },
    {
      "cell_type": "markdown",
      "source": [
        "Experiment 4"
      ],
      "metadata": {
        "id": "ZZMsyNv9tX4n"
      }
    },
    {
      "cell_type": "code",
      "source": [
        "# Experiment: Varying Patch Sizes with Overlapping vs Non-Overlapping Conditions\n",
        "patch_sizes = [4, 8, 12, 16, 32]\n",
        "overlap_conditions = {\"Non-Overlapping\": lambda ps: ps, \"Overlapping\": lambda ps: ps // 2}\n",
        "results_patch = {}  # Key: (patch_size, condition), Value: final test accuracy\n",
        "\n",
        "for ps in patch_sizes:\n",
        "    for condition, stride_fn in overlap_conditions.items():\n",
        "        stride = stride_fn(ps)\n",
        "        print(f\"\\n=== Training with patch_size={ps} | {condition} (stride={stride}) ===\")\n",
        "        model = VisionTransformer(image_size=32, patch_size=ps, stride=stride, in_channels=3, emb_dim=128,\n",
        "                                  depth=6, num_heads=4, mlp_ratio=4.0, num_classes=10, dropout=0.1).to(device)\n",
        "        train_loader, test_loader = get_data(Sr=1)  # Using 50% of data for faster result\n",
        "        _, _, _, test_accs = train_model(model, train_loader, test_loader, epochs=20, lr=3e-4)\n",
        "        results_patch[(ps, condition)] = test_accs[-1]\n",
        "\n",
        "# Plotting the results\n",
        "# Combined Plot\n",
        "plt.figure(figsize=(8, 6))\n",
        "for condition in overlap_conditions.keys():\n",
        "    ps_vals = [ps for ps in patch_sizes]\n",
        "    acc_vals = [results_patch[(ps, condition)] for ps in patch_sizes]\n",
        "    plt.plot(ps_vals, acc_vals, marker='o', linestyle='--' if condition == \"Non-Overlapping\" else '-', label=f\"{condition} Patches\")\n",
        "\n",
        "# Formatting\n",
        "plt.xlabel(\"Patch Size\", fontsize=12, fontweight=\"bold\")\n",
        "plt.ylabel(\"Test Accuracy (%)\", fontsize=12, fontweight=\"bold\")\n",
        "plt.title(\"ViT Performance vs Patch Size (Overlapping vs Non-Overlapping)\", fontsize=14, fontweight=\"bold\")\n",
        "plt.legend(fontsize=10)\n",
        "plt.grid(True, linestyle=\"--\", alpha=0.6)\n",
        "plt.xticks(patch_sizes)\n",
        "plt.ylim(min(results_patch.values()) - 2, max(results_patch.values()) + 2)  # Adjusting Y-axis limits dynamically\n",
        "\n",
        "plt.show()\n"
      ],
      "metadata": {
        "colab": {
          "base_uri": "https://localhost:8080/"
        },
        "id": "dco1JkwFjyfs",
        "outputId": "b541d949-f076-491e-95e6-1efca7128cdf"
      },
      "execution_count": null,
      "outputs": [
        {
          "output_type": "stream",
          "name": "stdout",
          "text": [
            "\n",
            "=== Training with patch_size=4 | Non-Overlapping (stride=4) ===\n",
            "Files already downloaded and verified\n",
            "Files already downloaded and verified\n",
            "[Epoch 1/20] Train Loss: 1.7847 | Train Acc: 33.30% || Test Loss: 1.6260 | Test Acc: 40.30%\n",
            "[Epoch 2/20] Train Loss: 1.4867 | Train Acc: 45.64% || Test Loss: 1.4231 | Test Acc: 48.78%\n",
            "[Epoch 3/20] Train Loss: 1.3399 | Train Acc: 51.43% || Test Loss: 1.2689 | Test Acc: 54.44%\n",
            "[Epoch 4/20] Train Loss: 1.2437 | Train Acc: 55.01% || Test Loss: 1.1906 | Test Acc: 56.60%\n",
            "[Epoch 5/20] Train Loss: 1.1839 | Train Acc: 57.42% || Test Loss: 1.1443 | Test Acc: 58.35%\n",
            "[Epoch 6/20] Train Loss: 1.1219 | Train Acc: 59.41% || Test Loss: 1.0330 | Test Acc: 62.65%\n",
            "[Epoch 7/20] Train Loss: 1.0770 | Train Acc: 61.06% || Test Loss: 1.0440 | Test Acc: 62.77%\n"
          ]
        }
      ]
    },
    {
      "cell_type": "code",
      "source": [],
      "metadata": {
        "id": "N4zrb_qstbt3"
      },
      "execution_count": null,
      "outputs": []
    },
    {
      "cell_type": "markdown",
      "source": [
        "Experiment 4: Varying number of attention heads"
      ],
      "metadata": {
        "id": "AMD-pYRktcm1"
      }
    },
    {
      "cell_type": "code",
      "source": [
        "# Experiment: Varying Number of Attention Heads (Plotting Train & Test Accuracies)\n",
        "num_heads_list = [2, 4, 8]\n",
        "results_train = {}\n",
        "results_test = {}\n",
        "\n",
        "for nh in num_heads_list:\n",
        "    print(f\"\\n=== Training with {nh} Attention Heads ===\")\n",
        "    model = VisionTransformer(image_size=32, patch_size=4, stride=4, in_channels=3, emb_dim=128,\n",
        "                              depth=6, num_heads=nh, mlp_ratio=4.0, num_classes=10, dropout=0.1).to(device)\n",
        "    train_loader, test_loader = get_data(Sr=1.0)  # Using full training data\n",
        "    train_losses, train_accs, test_losses, test_accs = train_model(model, train_loader, test_loader, epochs=20, lr=3e-4)\n",
        "    results_train[nh] = train_accs[-1]\n",
        "    results_test[nh] = test_accs[-1]\n",
        "\n",
        "plt.figure()\n",
        "plt.plot(list(results_train.keys()), list(results_train.values()), marker='o', label='Train Accuracy')\n",
        "plt.plot(list(results_test.keys()), list(results_test.values()), marker='o', label='Test Accuracy')\n",
        "plt.xlabel(\"Number of Attention Heads\")\n",
        "plt.ylabel(\"Accuracy (%)\")\n",
        "plt.title(\"ViT Performance vs. Number of Attention Heads\")\n",
        "plt.legend()\n",
        "plt.show()\n"
      ],
      "metadata": {
        "id": "xmzgVUXktduj"
      },
      "execution_count": null,
      "outputs": []
    },
    {
      "cell_type": "code",
      "source": [],
      "metadata": {
        "id": "NKt-MlpotfBO"
      },
      "execution_count": null,
      "outputs": []
    },
    {
      "cell_type": "markdown",
      "source": [
        "Experiment 5"
      ],
      "metadata": {
        "id": "vYGb7tNBu6qH"
      }
    },
    {
      "cell_type": "code",
      "source": [
        "# Experiment 5: Classify using the CLS token from different model layers via a linear probe\n",
        "\n",
        "def get_cls_representation(model, x, layer_idx):\n",
        "    B = x.size(0)\n",
        "    # Patch embedding and adding CLS token and positional embedding\n",
        "    x = model.patch_embed(x)\n",
        "    cls_tokens = model.cls_token.expand(B, -1, -1)\n",
        "    x = torch.cat((cls_tokens, x), dim=1)\n",
        "    x = x + model.pos_embed\n",
        "    x = model.pos_drop(x)\n",
        "    # Pass through the first 'layer_idx' transformer blocks\n",
        "    for i in range(layer_idx):\n",
        "        x, _ = model.blocks[i](x)\n",
        "    # Final LayerNorm and extract CLS token\n",
        "    x = model.ln(x)\n",
        "    return x[:, 0]  # Shape: (B, emb_dim)\n",
        "\n",
        "def train_linear_probe(model, train_loader, test_loader, layer_idx, device, epochs=5, lr=1e-3):\n",
        "    model.eval()\n",
        "    train_feats, train_labels = [], []\n",
        "    test_feats, test_labels = [], []\n",
        "    with torch.no_grad():\n",
        "        for imgs, labels in train_loader:\n",
        "            imgs = imgs.to(device)\n",
        "            feats = get_cls_representation(model, imgs, layer_idx)\n",
        "            train_feats.append(feats.cpu())\n",
        "            train_labels.append(labels)\n",
        "        for imgs, labels in test_loader:\n",
        "            imgs = imgs.to(device)\n",
        "            feats = get_cls_representation(model, imgs, layer_idx)\n",
        "            test_feats.append(feats.cpu())\n",
        "            test_labels.append(labels)\n",
        "    train_feats = torch.cat(train_feats)\n",
        "    train_labels = torch.cat(train_labels)\n",
        "    test_feats = torch.cat(test_feats)\n",
        "    test_labels = torch.cat(test_labels)\n",
        "\n",
        "    classifier = nn.Linear(train_feats.size(1), 10).to(device)\n",
        "    optimizer = optim.Adam(classifier.parameters(), lr=lr)\n",
        "    criterion = nn.CrossEntropyLoss()\n",
        "\n",
        "    # Train linear classifier (linear probe)\n",
        "    for epoch in range(epochs):\n",
        "        classifier.train()\n",
        "        optimizer.zero_grad()\n",
        "        outputs = classifier(train_feats.to(device))\n",
        "        loss = criterion(outputs, train_labels.to(device))\n",
        "        loss.backward()\n",
        "        optimizer.step()\n",
        "\n",
        "    classifier.eval()\n",
        "    with torch.no_grad():\n",
        "        outputs = classifier(test_feats.to(device))\n",
        "        preds = outputs.argmax(dim=1)\n",
        "        acc = (preds.cpu() == test_labels).float().mean().item() * 100\n",
        "    return acc\n",
        "\n",
        "# Evaluate linear probe accuracy from different transformer layers (0 = before blocks, depth = after all blocks)\n",
        "probe_results = {}\n",
        "for layer_idx in range(len(model_vit.blocks) + 1):\n",
        "    acc = train_linear_probe(model_vit, train_loader_full, test_loader_full, layer_idx, device, epochs=5, lr=1e-3)\n",
        "    probe_results[layer_idx] = acc\n",
        "    print(f\"Layer {layer_idx}: Linear Probe Accuracy = {acc:.2f}%\")\n",
        "\n",
        "# Plot the linear probe accuracy vs. layer index\n",
        "import matplotlib.pyplot as plt\n",
        "plt.figure()\n",
        "plt.plot(list(probe_results.keys()), list(probe_results.values()), marker='o')\n",
        "plt.xlabel(\"Layer Index (0 = Before Blocks, Final = After all Blocks)\")\n",
        "plt.ylabel(\"Linear Probe Accuracy (%)\")\n",
        "plt.title(\"CLS Token Classification Accuracy vs. Model Layer\")\n",
        "plt.show()\n"
      ],
      "metadata": {
        "id": "oNXY7ypzlMr2"
      },
      "execution_count": null,
      "outputs": []
    },
    {
      "cell_type": "markdown",
      "source": [
        "Experiment 6"
      ],
      "metadata": {
        "id": "1JEukbY_u-MM"
      }
    },
    {
      "cell_type": "code",
      "source": [
        "import matplotlib.pyplot as plt\n",
        "import numpy as np\n",
        "\n",
        "def visualize_attention_maps(model, dataloader, device, num_images_per_class=2, num_layers_to_show=None):\n",
        "    \"\"\"\n",
        "    For 2 test images per class, classifies them and visualizes:\n",
        "    - the original image,\n",
        "    - and the average CLS token attention map from each transformer block.\n",
        "    \"\"\"\n",
        "    model.eval()\n",
        "    # Collect 2 images per class from the test loader\n",
        "    images_per_class = {i: [] for i in range(10)}\n",
        "    with torch.no_grad():\n",
        "        for imgs, labels in dataloader:\n",
        "            for img, label in zip(imgs, labels):\n",
        "                lbl = label.item()\n",
        "                if len(images_per_class[lbl]) < num_images_per_class:\n",
        "                    images_per_class[lbl].append(img)\n",
        "            if all(len(images_per_class[i]) >= num_images_per_class for i in range(10)):\n",
        "                break\n",
        "\n",
        "    # Flatten selected images with their ground truth labels\n",
        "    selected = []\n",
        "    for cls in range(10):\n",
        "        for img in images_per_class[cls]:\n",
        "            selected.append((img, cls))\n",
        "\n",
        "    # Process each selected image\n",
        "    for idx, (img, gt) in enumerate(selected):\n",
        "        img_batch = img.unsqueeze(0).to(device)  # Shape: (1, C, H, W)\n",
        "        logits, attn_maps = model(img_batch, return_attention=True)\n",
        "        pred = logits.argmax(dim=1).item()\n",
        "\n",
        "        # Determine how many layers to show\n",
        "        num_layers = len(attn_maps)\n",
        "        if num_layers_to_show is None:\n",
        "            num_layers_to_show = num_layers\n",
        "\n",
        "        # Set up subplots: 1 for original image, plus one per layer to show CLS token attention\n",
        "        fig, axes = plt.subplots(1, num_layers_to_show + 1, figsize=(3 * (num_layers_to_show + 1), 3))\n",
        "\n",
        "        # Plot the original image\n",
        "        # Convert from (C, H, W) to (H, W, C)\n",
        "        orig_img = img.cpu().numpy().transpose(1, 2, 0)\n",
        "        # Optionally, unnormalize if needed; here we assume the image is in [0,1]\n",
        "        axes[0].imshow(np.clip(orig_img, 0, 1))\n",
        "        axes[0].set_title(f\"Orig\\nGT: {gt}\\nPred: {pred}\")\n",
        "        axes[0].axis(\"off\")\n",
        "\n",
        "        # For each transformer block, compute and plot the average attention from the CLS token\n",
        "        for i in range(num_layers_to_show):\n",
        "            # Each attn map: shape (1, num_heads, seq_len, seq_len)\n",
        "            attn = attn_maps[i].squeeze(0)  # Now shape: (num_heads, seq_len, seq_len)\n",
        "            attn_avg = attn.mean(dim=0)      # Average over heads → shape: (seq_len, seq_len)\n",
        "            # The CLS token is at index 0; skip it for patch-level attention visualization.\n",
        "            # Compute grid size from number of patches: seq_len = 1 + num_patches, so grid = sqrt(num_patches)\n",
        "            num_patches = attn_avg.shape[0] - 1\n",
        "            grid_size = int(np.sqrt(num_patches))\n",
        "            # Extract attention from the CLS token to the patch tokens and reshape to grid\n",
        "            cls_attn = attn_avg[0, 1:].reshape(grid_size, grid_size)\n",
        "            im = axes[i+1].imshow(cls_attn.cpu().numpy(), cmap=\"viridis\")\n",
        "            axes[i+1].set_title(f\"Layer {i+1}\\nCLS Attn\")\n",
        "            axes[i+1].axis(\"off\")\n",
        "            fig.colorbar(im, ax=axes[i+1], fraction=0.046, pad=0.04)\n",
        "\n",
        "        plt.suptitle(f\"Test Image {idx+1} | GT: {gt} | Pred: {pred}\", fontsize=12)\n",
        "        plt.tight_layout(rect=[0, 0.03, 1, 0.95])\n",
        "        plt.show()\n",
        "\n",
        "# Run visualization: take 2 test images per class from test_loader_full, and visualize attention maps\n",
        "visualize_attention_maps(model_vit, test_loader_full, device, num_images_per_class=2)\n"
      ],
      "metadata": {
        "id": "EfOVGvxgu1vU"
      },
      "execution_count": null,
      "outputs": []
    },
    {
      "cell_type": "code",
      "source": [],
      "metadata": {
        "id": "OhielQrq2Cpe"
      },
      "execution_count": null,
      "outputs": []
    },
    {
      "cell_type": "code",
      "source": [],
      "metadata": {
        "id": "kGFBFNYZ2DsJ"
      },
      "execution_count": null,
      "outputs": []
    }
  ]
}